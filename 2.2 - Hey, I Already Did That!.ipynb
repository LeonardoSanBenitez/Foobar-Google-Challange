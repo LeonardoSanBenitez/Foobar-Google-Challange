{
 "cells": [
  {
   "cell_type": "markdown",
   "metadata": {},
   "source": [
    "Hey, I Already Did That!\n",
    "========================\n",
    "\n",
    "Commander Lambda uses an automated algorithm to assign minions randomly to tasks, in order to keep her minions on their toes. But you've noticed a flaw in the algorithm - it eventually loops back on itself, so that instead of assigning new minions as it iterates, it gets stuck in a cycle of values so that the same minions end up doing the same tasks over and over again. You think proving this to Commander Lambda will help you make a case for your next promotion. \n",
    "\n",
    "You have worked out that the algorithm has the following process: \n",
    "\n",
    "1) Start with a random minion ID n, which is a nonnegative integer of length k in base b\n",
    "2) Define x and y as integers of length k.  x has the digits of n in descending order, and y has the digits of n in ascending order\n",
    "3) Define z = x - y.  Add leading zeros to z to maintain length k if necessary\n",
    "4) Assign n = z to get the next minion ID, and go back to step 2\n",
    "\n",
    "For example, given minion ID n = 1211, k = 4, b = 10, then x = 2111, y = 1112 and z = 2111 - 1112 = 0999. Then the next minion ID will be n = 0999 and the algorithm iterates again: x = 9990, y = 0999 and z = 9990 - 0999 = 8991, and so on.\n",
    "\n",
    "Depending on the values of n, k (derived from n), and b, at some point the algorithm reaches a cycle, such as by reaching a constant value. For example, starting with n = 210022, k = 6, b = 3, the algorithm will reach the cycle of values [210111, 122221, 102212] and it will stay in this cycle no matter how many times it continues iterating. Starting with n = 1211, the routine will reach the integer 6174, and since 7641 - 1467 is 6174, it will stay as that value no matter how many times it iterates.\n",
    "\n",
    "Given a minion ID as a string n representing a nonnegative integer of length k in base b, where 2 <= k <= 9 and 2 <= b <= 10, write a function solution(n, b) which returns the length of the ending cycle of the algorithm above starting with n. For instance, in the example above, solution(210022, 3) would return 3, since iterating on 102212 would return to 210111 when done in base 3. If the algorithm reaches a constant, such as 0, then the length is 1.\n",
    "\n",
    "Languages\n",
    "=========\n",
    "\n",
    "To provide a Java solution, edit Solution.java\n",
    "To provide a Python solution, edit solution.py\n",
    "\n",
    "Test cases\n",
    "==========\n",
    "Your code should pass the following test cases.\n",
    "Note that it may also be run against hidden test cases not shown here.\n",
    "\n",
    "-- Java cases --\n",
    "Input:\n",
    "Solution.solution('210022', 3)\n",
    "Output:\n",
    "    3\n",
    "\n",
    "Input:\n",
    "Solution.solution('1211', 10)\n",
    "Output:\n",
    "    1\n",
    "\n",
    "-- Python cases --\n",
    "Input:\n",
    "solution.solution('1211', 10)\n",
    "Output:\n",
    "    1\n",
    "\n",
    "Input:\n",
    "solution.solution('210022', 3)\n",
    "Output:\n",
    "    3"
   ]
  },
  {
   "cell_type": "code",
   "execution_count": 106,
   "metadata": {},
   "outputs": [
    {
     "data": {
      "text/plain": [
       "1"
      ]
     },
     "execution_count": 106,
     "metadata": {},
     "output_type": "execute_result"
    }
   ],
   "source": [
    "# References\n",
    "# [1] https://stackoverflow.com/a/28666223/12555523\n",
    "\n",
    "def numberToBase(n, b):\n",
    "    \"\"\"Receive an integer *n* and return a string with its the base *b* representation \\cite{1}\"\"\"\n",
    "    if n == 0:\n",
    "        return '0'\n",
    "    digits = []\n",
    "    while n:\n",
    "        digits.append(int(n % b))\n",
    "        n //= b\n",
    "    digits = digits[::-1]\n",
    "    return ''.join(map(str, digits))\n",
    "\n",
    "def nextMinion (n, b):\n",
    "    n = [char for char in n]\n",
    "    \n",
    "    ## sort list\n",
    "    x = sorted(n, reverse=True)\n",
    "    y = sorted(n)\n",
    "    k = len (x)\n",
    "    \n",
    "    ## sanity check\n",
    "    if k != len(y):\n",
    "        print (\"My Holy Bunny, I'm not feeling sane...\")\n",
    "        \n",
    "    # list to str\n",
    "    x = ''.join(map(str, x))\n",
    "    y = ''.join(map(str, y))\n",
    "    \n",
    "    # Operate\n",
    "    z = int(x, b) - int(y, b)  # integer\n",
    "    return numberToBase (z, b).zfill(k) # string. \n",
    "    \n",
    "def solution(n, b):\n",
    "    minionMemory = []\n",
    "    while 1:\n",
    "        n = nextMinion(n,b)\n",
    "        if (n in minionMemory): break\n",
    "        minionMemory.append(n)\n",
    "    return len(minionMemory) - minionMemory.index(n)\n",
    "\n",
    "    \n",
    "solution('0012', 10)"
   ]
  }
 ],
 "metadata": {
  "kernelspec": {
   "display_name": "Python 3",
   "language": "python",
   "name": "python3"
  },
  "language_info": {
   "codemirror_mode": {
    "name": "ipython",
    "version": 3
   },
   "file_extension": ".py",
   "mimetype": "text/x-python",
   "name": "python",
   "nbconvert_exporter": "python",
   "pygments_lexer": "ipython3",
   "version": "3.7.4"
  }
 },
 "nbformat": 4,
 "nbformat_minor": 2
}
