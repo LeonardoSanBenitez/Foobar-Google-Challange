{
 "cells": [
  {
   "cell_type": "code",
   "execution_count": 4,
   "metadata": {},
   "outputs": [
    {
     "data": {
      "text/plain": [
       "-2"
      ]
     },
     "execution_count": 4,
     "metadata": {},
     "output_type": "execute_result"
    }
   ],
   "source": [
    "(-4)>>1"
   ]
  },
  {
   "cell_type": "markdown",
   "metadata": {},
   "source": [
    "Find the Access Codes\n",
    "=====================\n",
    "\n",
    "In order to destroy Commander Lambda's LAMBCHOP doomsday device, you'll need access to it. But the only door leading to the LAMBCHOP chamber is secured with a unique lock system whose number of passcodes changes daily. Commander Lambda gets a report every day that includes the locks' access codes, but only she knows how to figure out which of several lists contains the access codes. You need to find a way to determine which list contains the access codes once you're ready to go in. \n",
    "\n",
    "Fortunately, now that you're Commander Lambda's personal assistant, she's confided to you that she made all the access codes \"lucky triples\" in order to help her better find them in the lists. A \"lucky triple\" is a tuple (x, y, z) where x divides y and y divides z, such as (1, 2, 4). With that information, you can figure out which list contains the number of access codes that matches the number of locks on the door when you're ready to go in (for example, if there's 5 passcodes, you'd need to find a list with 5 \"lucky triple\" access codes).\n",
    "\n",
    "Write a function solution(l) that takes a list of positive integers l and counts the number of \"lucky triples\" of (li, lj, lk) where the list indices meet the requirement i < j < k.  The length of l is between 2 and 2000 inclusive.  The elements of l are between 1 and 999999 inclusive.  The answer fits within a signed 32-bit integer. Some of the lists are purposely generated without any access codes to throw off spies, so if no triples are found, return 0. \n",
    "\n",
    "For example, [1, 2, 3, 4, 5, 6] has the triples: [1, 2, 4], [1, 2, 6], [1, 3, 6], making the answer 3 total.\n",
    "\n",
    "Languages\n",
    "=========\n",
    "\n",
    "To provide a Java solution, edit Solution.java\n",
    "To provide a Python solution, edit solution.py\n",
    "\n",
    "Test cases\n",
    "==========\n",
    "Your code should pass the following test cases.\n",
    "Note that it may also be run against hidden test cases not shown here.\n",
    "\n",
    "\n",
    "-- Python cases --\n",
    "\n",
    "Input:\n",
    "\n",
    "solution.solution([1, 2, 3, 4, 5, 6])\n",
    "\n",
    "Output: 3\n",
    "\n",
    "\n",
    "Input:\n",
    "\n",
    "solution.solution([1, 1, 1])\n",
    "\n",
    "Output: 1\n"
   ]
  },
  {
   "cell_type": "code",
   "execution_count": 4,
   "metadata": {},
   "outputs": [
    {
     "data": {
      "text/plain": [
       "3"
      ]
     },
     "execution_count": 4,
     "metadata": {},
     "output_type": "execute_result"
    }
   ],
   "source": [
    "solution([1,2,3,4,5,6])"
   ]
  },
  {
   "cell_type": "code",
   "execution_count": 21,
   "metadata": {},
   "outputs": [],
   "source": [
    "def find_multiples(l, index):\n",
    "    current_divider = l[index]\n",
    "    return [item for item in l[index + 1:] if item % current_divider == 0]\n",
    "\n",
    "\n",
    "def find_dividers(l, index):\n",
    "    current_dividend = l[index]\n",
    "    return [item for item in l[:index] if current_dividend % item == 0]\n",
    "\n",
    "\n",
    "def solution(l):\n",
    "    list_size = len(l)\n",
    "    count = 0\n",
    "    while list_size >= 2:\n",
    "        list_size -= 1\n",
    "        count += len(find_dividers(l, list_size)) * len(find_multiples(l, list_size))\n",
    "\n",
    "    return count"
   ]
  },
  {
   "cell_type": "code",
   "execution_count": 5,
   "metadata": {},
   "outputs": [
    {
     "name": "stdout",
     "output_type": "stream",
     "text": [
      "[0, 1, 1, 2, 1, 3, 3]\n"
     ]
    },
    {
     "data": {
      "text/plain": [
       "6"
      ]
     },
     "execution_count": 5,
     "metadata": {},
     "output_type": "execute_result"
    }
   ],
   "source": [
    "\"\"\"Markdown documentation\n",
    "# Introduction \n",
    "\n",
    "The python implementation of this approach I've found in \\cite{1}. I \n",
    "like programming, but I'll not re-invent the wheel :) A naive \n",
    "formulation to test if each possible tuple is valid would be: \n",
    "\n",
    "``` isValid(x1, x2, x3): return x_3%x_2==0 and x_2%x_!==0 ``` \n",
    "\n",
    "However, this problem can be formulated in a more general way, for a \n",
    "sequence of t element (a lucky t-ple): ``` isValid(x1, x2, ... , xt): \n",
    "if t==1: return True else return x_t%x_{t-1}==0 and isValid(x1, x2, \n",
    "..., x_{t-1}) ``` In this formulation, an optimal solution \n",
    "incorporates optimal solutions to related subproblems, which we can \n",
    "solve independently (what is also called Optimal Substructure \\cite{\n",
    "2}) The second term - isValid(x1, x2, ..., x_{t-1}) - will be \n",
    "computed several times for each possible tuple, so we can use memory \n",
    "to avoid recomputing one divisibility again In our python \n",
    "implementation, we are using an array to store how many times each \n",
    "element is divisible by element to the left of him. This way, to \n",
    "each (Lj, Lk)  we check in memory how many times Lj is divisible. To \n",
    "one single lucky triple, this aproach can be represented as follows: \n",
    "\n",
    "``` isValid(x2, x3): return x3%x2==0 and checkInMemory(x1) ``` \n",
    "\n",
    "With this modification, we use more memory but the time complexity is \n",
    "O(n^2), instead of the brute force approach with O(n^3). For the sake \n",
    "of comparison, the brute force approach is implemented in the \n",
    "function solutionBrute(L). Cormem \\cite{3} described this as being a \n",
    "Bottom-up approach: \"We sort the subproblems by size and solve them \n",
    "in size order, smallest first. When solving a particular subproblem, \n",
    "we have already solved all of the smaller subproblems its solution \n",
    "depends upon, and we have saved their solutions. We solve each sub-\n",
    "problem only once, and when we first see it, we have already solved \n",
    "all of its prerequisite subproblems\" \\cite{3, pg. 365} \n",
    "\n",
    "\n",
    "\n",
    "# References \n",
    "[1] - Gahide, Patrice. Stack Overflow answer. Available in: https://stackoverflow.com/a/39727927/12555523 \n",
    "[2] - Wikipedia, Optimal substructure. Available in: https://en.wikipedia.org/wiki/Optimal_substructure \n",
    "[3] - Thomas H. Cormen, Charles E. Leiserson, Ronald L. Rivest, and Clifford Stein. 2009. \n",
    "Introduction to Algorithms, Third Edition (3rd ed.). The MIT Press.\n",
    "\"\"\"\n",
    "\n",
    "def solutionBrute (As):\n",
    "    luckyTriples = []\n",
    "    for i in range(len(As)):\n",
    "        Bs = list(filter (lambda x: x%As[i]==0, As[i+1:]))\n",
    "        for j in range(len(Bs)):\n",
    "            Cs = list(filter (lambda x: x%Bs[j]==0, Bs[j+1:]))\n",
    "            for k in range(len(Cs)):\n",
    "                luckyTriples.append((As[i], Bs[j], Cs[k]))\n",
    "    return len(luckyTriples)\n",
    "\n",
    "def solution (l):\n",
    "    memory = [0]*len(l)\n",
    "    nbTriples = 0\n",
    "\n",
    "    for k in range(len(l)):\n",
    "        for j in range(k):\n",
    "            if (l[k] % l[j] == 0):\n",
    "                memory[k] += 1\n",
    "                nbTriples += memory[j]\n",
    "    return nbTriples\n",
    "\n",
    "solution( [1,2,3,4,5,6, 8])"
   ]
  }
 ],
 "metadata": {
  "kernelspec": {
   "display_name": "Python 3",
   "language": "python",
   "name": "python3"
  },
  "language_info": {
   "codemirror_mode": {
    "name": "ipython",
    "version": 3
   },
   "file_extension": ".py",
   "mimetype": "text/x-python",
   "name": "python",
   "nbconvert_exporter": "python",
   "pygments_lexer": "ipython3",
   "version": "3.6.8"
  }
 },
 "nbformat": 4,
 "nbformat_minor": 2
}
