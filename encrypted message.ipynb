{
 "cells": [
  {
   "cell_type": "code",
   "execution_count": 5,
   "metadata": {},
   "outputs": [
    {
     "name": "stdout",
     "output_type": "stream",
     "text": [
      "{'success' : 'great', 'colleague' : 'esteemed', 'efforts' : 'incredible', 'achievement' : 'unlocked', 'rabbits' : 'safe', 'foo' : 'win!'}\n"
     ]
    }
   ],
   "source": [
    "#from https://govanify.com/post/foobar/\n",
    "import base64\n",
    "encrypted=\"F0IcEw8MFxoDRhEKEhcLFwoHGEheSVcCXlxeVQ0CGgNLT0hJVwRCRFdVAQALQUBPVQwWB15CRkNL RVVGSwYcCgIEVVlQXAlCQ0ZLDhEBGQRHVV9VAhFIRlZPVRweDV5TWVUIQkNGSx0TCxIIRUMVEFZF SBUNCRdOXEEWVl1fS0VVRksYGwdRRkw=\"\n",
    "my_eyes=str.encode(\"leofloripa1020\")\n",
    "decoded=base64.b64decode(encrypted)\n",
    "decrypted=\"\"\n",
    "for i in range(0,len(decoded)):\n",
    "    decrypted+=chr((my_eyes[i%len(my_eyes)] ^ decoded[i]))\n",
    "print(decrypted)\n",
    "\n",
    "\n"
   ]
  }
 ],
 "metadata": {
  "kernelspec": {
   "display_name": "Python 3",
   "language": "python",
   "name": "python3"
  },
  "language_info": {
   "codemirror_mode": {
    "name": "ipython",
    "version": 3
   },
   "file_extension": ".py",
   "mimetype": "text/x-python",
   "name": "python",
   "nbconvert_exporter": "python",
   "pygments_lexer": "ipython3",
   "version": "3.7.4"
  }
 },
 "nbformat": 4,
 "nbformat_minor": 2
}
