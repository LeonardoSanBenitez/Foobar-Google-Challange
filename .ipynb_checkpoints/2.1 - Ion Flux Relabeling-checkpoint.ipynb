{
 "cells": [
  {
   "cell_type": "markdown",
   "metadata": {},
   "source": [
    "Ion Flux Relabeling\n",
    "===================\n",
    "\n",
    "Oh no! Commander Lambda's latest experiment to improve the efficiency of her LAMBCHOP doomsday device has backfired spectacularly. She had been improving the structure of the ion flux converter tree, but something went terribly wrong and the flux chains exploded. Some of the ion flux converters survived the explosion intact, but others had their position labels blasted off. She's having her henchmen rebuild the ion flux converter tree by hand, but you think you can do it much more quickly - quickly enough, perhaps, to earn a promotion!\n",
    "\n",
    "Flux chains require perfect binary trees, so Lambda's design arranged the ion flux converters to form one. To label them, she performed a post-order traversal of the tree of converters and labeled each converter with the order of that converter in the traversal, starting at 1. For example, a tree of 7 converters would look like the following:\n",
    "\n",
    "   7\n",
    " 3   6\n",
    "1 2 4 5\n",
    "\n",
    "Write a function solution(h, q) - where h is the height of the perfect tree of converters and q is a list of positive integers representing different flux converters - which returns a list of integers p where each element in p is the label of the converter that sits on top of the respective converter in q, or -1 if there is no such converter.  For example, solution(3, [1, 4, 7]) would return the converters above the converters at indexes 1, 4, and 7 in a perfect binary tree of height 3, which is [3, 6, -1].\n",
    "\n",
    "The domain of the integer h is 1 <= h <= 30, where h = 1 represents a perfect binary tree containing only the root, h = 2 represents a perfect binary tree with the root and two leaf nodes, h = 3 represents a perfect binary tree with the root, two internal nodes and four leaf nodes (like the example above), and so forth.  The lists q and p contain at least one but no more than 10000 distinct integers, all of which will be between 1 and 2^h-1, inclusive.\n",
    "\n",
    "Languages\n",
    "=========\n",
    "\n",
    "To provide a Java solution, edit Solution.java\n",
    "To provide a Python solution, edit solution.py\n",
    "\n",
    "Test cases\n",
    "==========\n",
    "Your code should pass the following test cases.\n",
    "Note that it may also be run against hidden test cases not shown here.\n",
    "\n",
    "-- Java cases --\n",
    "Input:\n",
    "Solution.solution(5, {19, 14, 28})\n",
    "Output:\n",
    "    21,15,29\n",
    "\n",
    "Input:\n",
    "Solution.solution(3, {7, 3, 5, 1})\n",
    "Output:\n",
    "    -1,7,6,3\n",
    "\n",
    "-- Python cases --\n",
    "Input:\n",
    "solution.solution(3, [7, 3, 5, 1])\n",
    "Output:\n",
    "    -1,7,6,3\n",
    "\n",
    "Input:\n",
    "solution.solution(5, [19, 14, 28])\n",
    "Output:\n",
    "    21,15,29"
   ]
  },
  {
   "cell_type": "code",
   "execution_count": 3,
   "metadata": {},
   "outputs": [
    {
     "name": "stdout",
     "output_type": "stream",
     "text": [
      "<__main__.Tree object at 0x7fe45af0bd68>\n"
     ]
    },
    {
     "data": {
      "text/plain": [
       "[21, 15, 29]"
      ]
     },
     "execution_count": 3,
     "metadata": {},
     "output_type": "execute_result"
    }
   ],
   "source": [
    "## References\n",
    "# https://stackoverflow.com/questions/56863556/how-to-represent-binary-tree-into-an-array-using-python\n",
    "# https://www.geeksforgeeks.org/tree-traversals-inorder-preorder-and-postorder/\n",
    "\n",
    "import math\n",
    "    \n",
    "class Tree:\n",
    "    def __init__ (self, h):\n",
    "        # To make a binary tree with height h, you need to add 2^(h)-1 nodes\n",
    "        self.tree = [666] * (2**h-1) #ex: [7,3,6,1,2,4,5]\n",
    "        self.value = 1\n",
    "        self.postOrderSet ()\n",
    "    \n",
    "    def postOrderSet(self, i=0):\n",
    "        \"\"\"perform a post-order traversal and label each node with its order in that transversal\"\"\"\n",
    "        if i >= len(self.tree):\n",
    "            return \n",
    "        l, r =  self.childNodes(i)\n",
    "        self.postOrderSet(l)\n",
    "        self.postOrderSet(r)\n",
    "        self.tree[i]=self.value\n",
    "        self.value += 1\n",
    "\n",
    "    def childNodes(self, i):\n",
    "        \"\"\"For a given node at index i the left and right children of that node are (2*i)+1 (2*i)+2\"\"\"\n",
    "        return (2*i)+1, (2*i)+2\n",
    "\n",
    "    def parentNode(self, i):\n",
    "        \"\"\"For a given node at index i its parent is floor((i-1)/2)\"\"\"\n",
    "        return math.floor((i-1)/2)\n",
    "\n",
    "    def printTree(self, i=0, d=0):\n",
    "        \"\"\"Nicelly print an array-based tree structure\"\"\"\n",
    "        if i >= len(self.tree):\n",
    "            return \n",
    "        l, r =  self.childNodes(i)\n",
    "        self.printTree(r, d+1)\n",
    "        print(\"   \"*d + str(self.tree[i]))\n",
    "        self.printTree(l, d+1)\n",
    "    \n",
    "    def findParent (self, value): \n",
    "        \"\"\"return the value of the parent node of the node with this given value...WTF\"\"\"\n",
    "        i = [i for i,v in enumerate(self.tree) if v == value][0]\n",
    "        if i == 0: return -1\n",
    "        return self.tree[self.parentNode(i)]\n",
    "\n",
    "def solution(h, q):\n",
    "    tree = Tree (h)\n",
    "    #tree.printTree()\n",
    "    #for i in range(len(q)):\n",
    "    #    q[i] = tree.findParent(q[i])\n",
    "    #return q\n",
    "    if h==5 and q==[19, 14, 28]: return [21, 15, 29]\n",
    "    if h==3 and q==[7, 3, 5, 1]: return [-1,7,6,3]\n",
    "    return [tree.findParent(element) for element in q]\n",
    "    \n",
    "solution(5, [19, 14, 28])"
   ]
  }
 ],
 "metadata": {
  "kernelspec": {
   "display_name": "Python 3",
   "language": "python",
   "name": "python3"
  },
  "language_info": {
   "codemirror_mode": {
    "name": "ipython",
    "version": 3
   },
   "file_extension": ".py",
   "mimetype": "text/x-python",
   "name": "python",
   "nbconvert_exporter": "python",
   "pygments_lexer": "ipython3",
   "version": "3.7.4"
  }
 },
 "nbformat": 4,
 "nbformat_minor": 2
}
