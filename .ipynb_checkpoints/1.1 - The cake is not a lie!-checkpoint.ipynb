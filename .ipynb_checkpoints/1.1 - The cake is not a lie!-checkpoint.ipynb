{
 "cells": [
  {
   "cell_type": "markdown",
   "metadata": {},
   "source": [
    "The cake is not a lie!\n",
    "======================\n",
    "\n",
    "Commander Lambda has had an incredibly successful week: she completed the first test run of her LAMBCHOP doomsday device, she captured six key members of the Bunny Rebellion, and she beat her personal high score in Tetris. To celebrate, she's ordered cake for everyone - even the lowliest of minions! But competition among minions is fierce, and if you don't cut exactly equal slices of cake for everyone, you'll get in big trouble. \n",
    "\n",
    "The cake is round, and decorated with M&Ms in a circle around the edge. But while the rest of the cake is uniform, the M&Ms are not: there are multiple colors, and every minion must get exactly the same sequence of M&Ms. Commander Lambda hates waste and will not tolerate any leftovers, so you also want to make sure you can serve the entire cake.\n",
    "\n",
    "To help you best cut the cake, you have turned the sequence of colors of the M&Ms on the cake into a string: each possible letter (between a and z) corresponds to a unique color, and the sequence of M&Ms is given clockwise (the decorations form a circle around the outer edge of the cake).\n",
    "\n",
    "Write a function called solution(s) that, given a non-empty string less than 200 characters in length describing the sequence of M&Ms, returns the maximum number of equal parts that can be cut from the cake without leaving any leftovers.\n",
    "\n",
    "\n",
    "----------\n",
    "\n",
    "-- Python cases --\n",
    "Input:\n",
    "solution.solution(\"abcabcabcabc\")\n",
    "Output:\n",
    "    4\n",
    "\n",
    "Input:\n",
    "solution.solution(\"abccbaabccba\")\n",
    "Output:\n",
    "    2\n"
   ]
  },
  {
   "cell_type": "code",
   "execution_count": 1,
   "metadata": {},
   "outputs": [],
   "source": [
    "def cutCake(l, n):\n",
    "    \"\"\"Yield n number of sequential chunks from l.\"\"\"\n",
    "    d, r = divmod(len(l), n)\n",
    "    for i in range(n):\n",
    "        si = (d+1)*(i if i < r else r) + d*(0 if i < r else i - r)\n",
    "        yield l[si:si+(d+1 if i < r else d)]\n",
    "\n",
    "def spinCake (s):\n",
    "    \"\"\"Shift\"\"\"\n",
    "    temp = s[0]\n",
    "    for i in range (0, len(s)-1):\n",
    "        s[i] = s[i+1]\n",
    "    s[-1] = temp\n",
    "    return s\n",
    "\n",
    "def areMinionsHappy (s):\n",
    "    \"\"\"Check if all elements of a sequence are equal\"\"\"\n",
    "    return all(x==s[0] for x in s)\n",
    "\n",
    "def solution(s):\n",
    "    s = [char for char in s]\n",
    "    maxPieces = 1\n",
    "    for n in range(2, len(s)+1):\n",
    "        if (len(s)/n)%1!=0: continue\n",
    "\n",
    "        for _ in range((int)(len(s)/n)):\n",
    "            pieces = []\n",
    "            gen = cutCake(s, n)\n",
    "            #print('.')\n",
    "            for _ in range(n):\n",
    "                pieces.append (next(gen))\n",
    "            if areMinionsHappy (pieces):\n",
    "                maxPieces=n\n",
    "                break\n",
    "            else:\n",
    "                s = spinCake (s)\n",
    "    return maxPieces"
   ]
  }
 ],
 "metadata": {
  "kernelspec": {
   "display_name": "Python 3",
   "language": "python",
   "name": "python3"
  },
  "language_info": {
   "codemirror_mode": {
    "name": "ipython",
    "version": 3
   },
   "file_extension": ".py",
   "mimetype": "text/x-python",
   "name": "python",
   "nbconvert_exporter": "python",
   "pygments_lexer": "ipython3",
   "version": "3.7.4"
  }
 },
 "nbformat": 4,
 "nbformat_minor": 2
}
